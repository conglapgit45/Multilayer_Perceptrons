{
  "nbformat": 4,
  "nbformat_minor": 0,
  "metadata": {
    "colab": {
      "provenance": [],
      "authorship_tag": "ABX9TyNnHPyPi9cBeEDuUbSne+8O",
      "include_colab_link": true
    },
    "kernelspec": {
      "name": "python3",
      "display_name": "Python 3"
    },
    "language_info": {
      "name": "python"
    }
  },
  "cells": [
    {
      "cell_type": "markdown",
      "metadata": {
        "id": "view-in-github",
        "colab_type": "text"
      },
      "source": [
        "<a href=\"https://colab.research.google.com/github/conglapgit45/Multilayer_Perceptrons/blob/main/MLP_Simple.ipynb\" target=\"_parent\"><img src=\"https://colab.research.google.com/assets/colab-badge.svg\" alt=\"Open In Colab\"/></a>"
      ]
    },
    {
      "cell_type": "markdown",
      "source": [
        "# Auto_MPG"
      ],
      "metadata": {
        "id": "LW8pC7MO4yUP"
      }
    },
    {
      "cell_type": "code",
      "execution_count": 1,
      "metadata": {
        "colab": {
          "base_uri": "https://localhost:8080/"
        },
        "id": "ny0PqPy8vpWV",
        "outputId": "f5246417-1177-4c5f-8ac6-85b48f644da2"
      },
      "outputs": [
        {
          "output_type": "stream",
          "name": "stdout",
          "text": [
            "/usr/local/lib/python3.10/dist-packages/gdown/__main__.py:140: FutureWarning: Option `--id` was deprecated in version 4.3.1 and will be removed in 5.0. You don't need to pass it anymore to use a file ID.\n",
            "  warnings.warn(\n",
            "Downloading...\n",
            "From: https://drive.google.com/uc?id=1qiUDDoYyRLBiKOoYWdFl_5WByHE8Cugu\n",
            "To: /content/Auto_MPG_data.csv\n",
            "100% 15.4k/15.4k [00:00<00:00, 26.1MB/s]\n"
          ]
        }
      ],
      "source": [
        "! gdown --id 1qiUDDoYyRLBiKOoYWdFl_5WByHE8Cugu"
      ]
    },
    {
      "cell_type": "code",
      "source": [
        "import numpy as np\n",
        "import pandas as pd\n",
        "import matplotlib.pyplot as plt\n",
        "import torch\n",
        "import torch.nn as nn\n",
        "import torch.nn.functional as F\n",
        "from torch.utils.data import Dataset, DataLoader\n",
        "\n",
        "from sklearn.model_selection import train_test_split\n",
        "from sklearn.preprocessing import StandardScaler"
      ],
      "metadata": {
        "id": "UlrluWTZv9pI"
      },
      "execution_count": 2,
      "outputs": []
    },
    {
      "cell_type": "code",
      "source": [
        "# fix random seed\n",
        "\n",
        "random_state = 59\n",
        "np.random.seed(random_state)\n",
        "torch.manual_seed(random_state)\n",
        "if torch.cuda.is_available():\n",
        "    torch.cuda.manual_seed(random_state)"
      ],
      "metadata": {
        "id": "6gwYFKMEwqJB"
      },
      "execution_count": 3,
      "outputs": []
    },
    {
      "cell_type": "code",
      "source": [
        "# set computing device\n",
        "\n",
        "device = torch.device('cuda' if torch.cuda.is_available() else 'cpu')"
      ],
      "metadata": {
        "id": "Ssnluek2w81U"
      },
      "execution_count": 4,
      "outputs": []
    },
    {
      "cell_type": "code",
      "source": [
        "# read data\n",
        "\n",
        "dataset_path = '/content/Auto_MPG_data.csv'\n",
        "dataset = pd.read_csv(dataset_path)"
      ],
      "metadata": {
        "id": "dYZ6kduXx4er"
      },
      "execution_count": 5,
      "outputs": []
    },
    {
      "cell_type": "code",
      "source": [
        "# split data to features and label\n",
        "\n",
        "X = dataset.drop(columns = 'MPG').values\n",
        "y = dataset['MPG'].values"
      ],
      "metadata": {
        "id": "mjuxMW50yOJ6"
      },
      "execution_count": 6,
      "outputs": []
    },
    {
      "cell_type": "code",
      "source": [
        "# split data to train, test and val\n",
        "\n",
        "val_size = 0.2\n",
        "test_size = 0.125\n",
        "is_shuffle = True\n",
        "\n",
        "X_train, X_val, y_train, y_val = train_test_split(\n",
        "    X, y,\n",
        "    test_size = val_size ,\n",
        "    random_state = random_state ,\n",
        "    shuffle = is_shuffle\n",
        ")\n",
        "\n",
        "X_train, X_test, y_train, y_test = train_test_split(\n",
        "    X_train, y_train,\n",
        "    test_size = test_size,\n",
        "    random_state = random_state,\n",
        "    shuffle = is_shuffle\n",
        ")"
      ],
      "metadata": {
        "id": "KaxrN3dOypyy"
      },
      "execution_count": 7,
      "outputs": []
    },
    {
      "cell_type": "code",
      "source": [
        "# standardize input features\n",
        "\n",
        "normalizer = StandardScaler()\n",
        "X_train = normalizer.fit_transform(X_train)\n",
        "X_val = normalizer.transform(X_val)\n",
        "X_test = normalizer.transform(X_test)\n",
        "\n",
        "X_train = torch.tensor(X_train, dtype = torch.float32)\n",
        "X_val = torch.tensor(X_val, dtype = torch.float32)\n",
        "X_test = torch.tensor(X_test, dtype = torch.float32)\n",
        "y_train = torch.tensor(y_train, dtype = torch.float32)\n",
        "y_val = torch.tensor(y_val, dtype = torch.float32)\n",
        "y_test = torch.tensor(y_test, dtype = torch.float32)"
      ],
      "metadata": {
        "id": "UH2tynvxzroC"
      },
      "execution_count": 8,
      "outputs": []
    },
    {
      "cell_type": "code",
      "source": [
        "# build dataloader\n",
        "\n",
        "class CustomDataset(Dataset):\n",
        "    def __init__(self, X, y):\n",
        "        self.X = X\n",
        "        self.y = y\n",
        "\n",
        "    def __len__(self):\n",
        "        return len(self.y)\n",
        "\n",
        "    def __getitem__(self, idx):\n",
        "        return self.X[idx], self.y[idx]\n",
        "\n",
        "\n",
        "batch_size = 32\n",
        "train_dataset = CustomDataset(X_train, y_train)\n",
        "val_dataset = CustomDataset(X_val, y_val)\n",
        "train_loader = DataLoader(\n",
        "    train_dataset,\n",
        "    batch_size = batch_size ,\n",
        "    shuffle = True\n",
        ")\n",
        "val_loader = DataLoader(\n",
        "    val_dataset,\n",
        "    batch_size = batch_size,\n",
        "    shuffle = False\n",
        ")"
      ],
      "metadata": {
        "id": "GGEW7IrO1LEl"
      },
      "execution_count": 9,
      "outputs": []
    },
    {
      "cell_type": "code",
      "source": [
        "# build MLP network\n",
        "\n",
        "class MLP(nn.Module):\n",
        "    def __init__(self, input_dims, hidden_dims, output_dims):\n",
        "        super().__init__()\n",
        "        self.linear1 = nn.Linear(input_dims, hidden_dims)\n",
        "        self.linear2 = nn.Linear(hidden_dims, hidden_dims)\n",
        "        self.output = nn.Tanh()\n",
        "        self.output = nn.Linear(hidden_dims, output_dims)\n",
        "\n",
        "    def forward(self, x):\n",
        "        x = self.linear1(x)\n",
        "        x = F.relu(x)\n",
        "        x = self.linear2(x)\n",
        "        x = F.relu(x)\n",
        "        out = self.output(x)\n",
        "        return out.squeeze(1)"
      ],
      "metadata": {
        "id": "HLk-PIv92qaj"
      },
      "execution_count": 30,
      "outputs": []
    },
    {
      "cell_type": "code",
      "source": [
        "# initialize model variances\n",
        "\n",
        "input_dims = X_train.shape[1]\n",
        "output_dims = 1\n",
        "hidden_dims = 64\n",
        "\n",
        "model = MLP(\n",
        "    input_dims = input_dims,\n",
        "    hidden_dims = hidden_dims,\n",
        "    output_dims = output_dims\n",
        ").to(device)"
      ],
      "metadata": {
        "id": "NGjgPGYJ46B5"
      },
      "execution_count": 31,
      "outputs": []
    },
    {
      "cell_type": "code",
      "source": [
        "# declare loss function and optimizer\n",
        "\n",
        "lr = 1e-2\n",
        "criterion = nn.MSELoss()\n",
        "optimizer = torch.optim.SGD(model.parameters(), lr=lr)"
      ],
      "metadata": {
        "id": "X3R8gwoV5Q0X"
      },
      "execution_count": 32,
      "outputs": []
    },
    {
      "cell_type": "code",
      "source": [
        "# define R2 function\n",
        "\n",
        "def r_squared(y_true, y_pred):\n",
        "    y_true = torch.Tensor(y_true).to(device)\n",
        "    y_pred = torch.Tensor(y_pred).to(device)\n",
        "    mean_true = torch.mean(y_true)\n",
        "    ss_tot = torch.sum((y_true - mean_true) ** 2)\n",
        "    ss_res = torch.sum((y_true - y_pred) ** 2)\n",
        "    r2 = 1 - (ss_res / ss_tot)\n",
        "    return r2"
      ],
      "metadata": {
        "id": "7I9vkvUw561K"
      },
      "execution_count": 33,
      "outputs": []
    },
    {
      "cell_type": "code",
      "source": [
        "#  train model\n",
        "\n",
        "epochs = 100\n",
        "train_losses = []\n",
        "val_losses = []\n",
        "train_r2 = []\n",
        "val_r2 = []\n",
        "\n",
        "for epoch in range(epochs):\n",
        "    train_loss = 0.0\n",
        "    train_target = []\n",
        "    val_target = []\n",
        "    train_predict = []\n",
        "    val_predict = []\n",
        "    model.train()\n",
        "    for X_samples, y_samples in train_loader:\n",
        "        X_samples = X_samples.to(device)\n",
        "        y_samples = y_samples.to(device)\n",
        "        optimizer.zero_grad()\n",
        "        outputs = model(X_samples)\n",
        "        train_predict += outputs.tolist()\n",
        "        train_target += y_samples.tolist()\n",
        "        loss = criterion(outputs, y_samples)\n",
        "        loss.backward()\n",
        "        optimizer . step ()\n",
        "        train_loss += loss.item()\n",
        "    train_loss /= len(train_loader)\n",
        "    train_losses.append(train_loss)\n",
        "    train_r2.append(r_squared(train_target, train_predict))\n",
        "    model.eval()\n",
        "    val_loss = 0.0\n",
        "    with torch.no_grad():\n",
        "        for X_samples, y_samples in val_loader:\n",
        "            X_samples = X_samples.to(device)\n",
        "            y_samples = y_samples.to(device)\n",
        "            outputs = model(X_samples)\n",
        "            val_predict += outputs.tolist()\n",
        "            val_target += y_samples.tolist()\n",
        "            loss = criterion(outputs, y_samples)\n",
        "            val_loss += loss.item()\n",
        "    val_loss /= len(val_loader)\n",
        "    val_losses.append(val_loss)\n",
        "    val_r2.append(r_squared(val_target, val_predict))\n",
        "    print(f'\\n EPOCH {epoch + 1}: \\t Training loss: {train_loss:.3f} \\t Validation loss: {val_loss:.3f}')"
      ],
      "metadata": {
        "colab": {
          "base_uri": "https://localhost:8080/"
        },
        "id": "KFyH2ZoX61Cc",
        "outputId": "b738c0fe-56b3-4412-b334-ee4cf696c6b0"
      },
      "execution_count": 34,
      "outputs": [
        {
          "output_type": "stream",
          "name": "stdout",
          "text": [
            "\n",
            " EPOCH 1: \t Training loss: 424.652 \t Validation loss: 181.264\n",
            "\n",
            " EPOCH 2: \t Training loss: 185.595 \t Validation loss: 414.276\n",
            "\n",
            " EPOCH 3: \t Training loss: 136.164 \t Validation loss: 21.991\n",
            "\n",
            " EPOCH 4: \t Training loss: 63.342 \t Validation loss: 36.412\n",
            "\n",
            " EPOCH 5: \t Training loss: 25.888 \t Validation loss: 39.948\n",
            "\n",
            " EPOCH 6: \t Training loss: 20.180 \t Validation loss: 35.770\n",
            "\n",
            " EPOCH 7: \t Training loss: 14.948 \t Validation loss: 5.811\n",
            "\n",
            " EPOCH 8: \t Training loss: 9.732 \t Validation loss: 14.324\n",
            "\n",
            " EPOCH 9: \t Training loss: 18.773 \t Validation loss: 6.808\n",
            "\n",
            " EPOCH 10: \t Training loss: 13.099 \t Validation loss: 26.296\n",
            "\n",
            " EPOCH 11: \t Training loss: 14.697 \t Validation loss: 6.361\n",
            "\n",
            " EPOCH 12: \t Training loss: 16.093 \t Validation loss: 11.408\n",
            "\n",
            " EPOCH 13: \t Training loss: 9.254 \t Validation loss: 12.717\n",
            "\n",
            " EPOCH 14: \t Training loss: 7.909 \t Validation loss: 4.970\n",
            "\n",
            " EPOCH 15: \t Training loss: 7.499 \t Validation loss: 8.514\n",
            "\n",
            " EPOCH 16: \t Training loss: 9.185 \t Validation loss: 7.155\n",
            "\n",
            " EPOCH 17: \t Training loss: 8.351 \t Validation loss: 5.251\n",
            "\n",
            " EPOCH 18: \t Training loss: 7.339 \t Validation loss: 6.212\n",
            "\n",
            " EPOCH 19: \t Training loss: 7.728 \t Validation loss: 10.855\n",
            "\n",
            " EPOCH 20: \t Training loss: 10.866 \t Validation loss: 5.425\n",
            "\n",
            " EPOCH 21: \t Training loss: 9.572 \t Validation loss: 12.301\n",
            "\n",
            " EPOCH 22: \t Training loss: 8.426 \t Validation loss: 5.486\n",
            "\n",
            " EPOCH 23: \t Training loss: 6.419 \t Validation loss: 10.683\n",
            "\n",
            " EPOCH 24: \t Training loss: 9.145 \t Validation loss: 6.336\n",
            "\n",
            " EPOCH 25: \t Training loss: 6.098 \t Validation loss: 8.339\n",
            "\n",
            " EPOCH 26: \t Training loss: 7.158 \t Validation loss: 6.493\n",
            "\n",
            " EPOCH 27: \t Training loss: 7.474 \t Validation loss: 4.952\n",
            "\n",
            " EPOCH 28: \t Training loss: 6.103 \t Validation loss: 7.476\n",
            "\n",
            " EPOCH 29: \t Training loss: 7.819 \t Validation loss: 5.437\n",
            "\n",
            " EPOCH 30: \t Training loss: 7.287 \t Validation loss: 8.275\n",
            "\n",
            " EPOCH 31: \t Training loss: 6.452 \t Validation loss: 8.864\n",
            "\n",
            " EPOCH 32: \t Training loss: 5.744 \t Validation loss: 6.839\n",
            "\n",
            " EPOCH 33: \t Training loss: 8.894 \t Validation loss: 5.192\n",
            "\n",
            " EPOCH 34: \t Training loss: 6.529 \t Validation loss: 7.984\n",
            "\n",
            " EPOCH 35: \t Training loss: 7.448 \t Validation loss: 4.569\n",
            "\n",
            " EPOCH 36: \t Training loss: 6.068 \t Validation loss: 16.422\n",
            "\n",
            " EPOCH 37: \t Training loss: 8.460 \t Validation loss: 7.411\n",
            "\n",
            " EPOCH 38: \t Training loss: 9.283 \t Validation loss: 7.198\n",
            "\n",
            " EPOCH 39: \t Training loss: 8.189 \t Validation loss: 4.715\n",
            "\n",
            " EPOCH 40: \t Training loss: 7.046 \t Validation loss: 20.321\n",
            "\n",
            " EPOCH 41: \t Training loss: 7.621 \t Validation loss: 5.634\n",
            "\n",
            " EPOCH 42: \t Training loss: 5.479 \t Validation loss: 5.784\n",
            "\n",
            " EPOCH 43: \t Training loss: 6.073 \t Validation loss: 6.177\n",
            "\n",
            " EPOCH 44: \t Training loss: 5.713 \t Validation loss: 6.905\n",
            "\n",
            " EPOCH 45: \t Training loss: 8.658 \t Validation loss: 6.796\n",
            "\n",
            " EPOCH 46: \t Training loss: 5.141 \t Validation loss: 4.773\n",
            "\n",
            " EPOCH 47: \t Training loss: 6.145 \t Validation loss: 4.572\n",
            "\n",
            " EPOCH 48: \t Training loss: 6.850 \t Validation loss: 5.603\n",
            "\n",
            " EPOCH 49: \t Training loss: 6.431 \t Validation loss: 13.601\n",
            "\n",
            " EPOCH 50: \t Training loss: 6.801 \t Validation loss: 6.292\n",
            "\n",
            " EPOCH 51: \t Training loss: 5.606 \t Validation loss: 4.905\n",
            "\n",
            " EPOCH 52: \t Training loss: 7.200 \t Validation loss: 6.966\n",
            "\n",
            " EPOCH 53: \t Training loss: 5.747 \t Validation loss: 5.172\n",
            "\n",
            " EPOCH 54: \t Training loss: 5.307 \t Validation loss: 4.722\n",
            "\n",
            " EPOCH 55: \t Training loss: 7.737 \t Validation loss: 7.133\n",
            "\n",
            " EPOCH 56: \t Training loss: 8.558 \t Validation loss: 4.443\n",
            "\n",
            " EPOCH 57: \t Training loss: 5.497 \t Validation loss: 4.527\n",
            "\n",
            " EPOCH 58: \t Training loss: 5.195 \t Validation loss: 5.715\n",
            "\n",
            " EPOCH 59: \t Training loss: 4.595 \t Validation loss: 7.075\n",
            "\n",
            " EPOCH 60: \t Training loss: 7.372 \t Validation loss: 4.902\n",
            "\n",
            " EPOCH 61: \t Training loss: 5.571 \t Validation loss: 5.397\n",
            "\n",
            " EPOCH 62: \t Training loss: 5.312 \t Validation loss: 4.584\n",
            "\n",
            " EPOCH 63: \t Training loss: 4.652 \t Validation loss: 6.141\n",
            "\n",
            " EPOCH 64: \t Training loss: 5.059 \t Validation loss: 6.282\n",
            "\n",
            " EPOCH 65: \t Training loss: 4.978 \t Validation loss: 5.431\n",
            "\n",
            " EPOCH 66: \t Training loss: 4.935 \t Validation loss: 8.060\n",
            "\n",
            " EPOCH 67: \t Training loss: 7.213 \t Validation loss: 5.046\n",
            "\n",
            " EPOCH 68: \t Training loss: 5.832 \t Validation loss: 5.697\n",
            "\n",
            " EPOCH 69: \t Training loss: 4.600 \t Validation loss: 5.319\n",
            "\n",
            " EPOCH 70: \t Training loss: 5.597 \t Validation loss: 10.680\n",
            "\n",
            " EPOCH 71: \t Training loss: 5.762 \t Validation loss: 4.519\n",
            "\n",
            " EPOCH 72: \t Training loss: 5.537 \t Validation loss: 4.979\n",
            "\n",
            " EPOCH 73: \t Training loss: 6.077 \t Validation loss: 7.478\n",
            "\n",
            " EPOCH 74: \t Training loss: 5.043 \t Validation loss: 5.908\n",
            "\n",
            " EPOCH 75: \t Training loss: 5.364 \t Validation loss: 9.134\n",
            "\n",
            " EPOCH 76: \t Training loss: 7.443 \t Validation loss: 6.260\n",
            "\n",
            " EPOCH 77: \t Training loss: 5.251 \t Validation loss: 5.272\n",
            "\n",
            " EPOCH 78: \t Training loss: 7.506 \t Validation loss: 10.947\n",
            "\n",
            " EPOCH 79: \t Training loss: 6.097 \t Validation loss: 6.115\n",
            "\n",
            " EPOCH 80: \t Training loss: 4.935 \t Validation loss: 6.739\n",
            "\n",
            " EPOCH 81: \t Training loss: 5.446 \t Validation loss: 4.936\n",
            "\n",
            " EPOCH 82: \t Training loss: 5.911 \t Validation loss: 5.174\n",
            "\n",
            " EPOCH 83: \t Training loss: 5.078 \t Validation loss: 6.627\n",
            "\n",
            " EPOCH 84: \t Training loss: 4.546 \t Validation loss: 6.105\n",
            "\n",
            " EPOCH 85: \t Training loss: 6.754 \t Validation loss: 6.612\n",
            "\n",
            " EPOCH 86: \t Training loss: 6.898 \t Validation loss: 10.103\n",
            "\n",
            " EPOCH 87: \t Training loss: 5.775 \t Validation loss: 4.520\n",
            "\n",
            " EPOCH 88: \t Training loss: 6.541 \t Validation loss: 5.516\n",
            "\n",
            " EPOCH 89: \t Training loss: 5.209 \t Validation loss: 4.536\n",
            "\n",
            " EPOCH 90: \t Training loss: 5.227 \t Validation loss: 5.356\n",
            "\n",
            " EPOCH 91: \t Training loss: 3.907 \t Validation loss: 8.791\n",
            "\n",
            " EPOCH 92: \t Training loss: 5.074 \t Validation loss: 4.841\n",
            "\n",
            " EPOCH 93: \t Training loss: 4.638 \t Validation loss: 10.490\n",
            "\n",
            " EPOCH 94: \t Training loss: 5.565 \t Validation loss: 5.936\n",
            "\n",
            " EPOCH 95: \t Training loss: 5.512 \t Validation loss: 5.029\n",
            "\n",
            " EPOCH 96: \t Training loss: 4.415 \t Validation loss: 5.462\n",
            "\n",
            " EPOCH 97: \t Training loss: 4.521 \t Validation loss: 4.488\n",
            "\n",
            " EPOCH 98: \t Training loss: 6.010 \t Validation loss: 16.665\n",
            "\n",
            " EPOCH 99: \t Training loss: 8.711 \t Validation loss: 5.368\n",
            "\n",
            " EPOCH 100: \t Training loss: 4.219 \t Validation loss: 5.025\n"
          ]
        }
      ]
    },
    {
      "cell_type": "code",
      "source": [
        "# evaluate model\n",
        "\n",
        "model.eval()\n",
        "with torch.no_grad():\n",
        "    y_hat = model(X_test)\n",
        "    test_set_r2 = r_squared(y_hat, y_test)\n",
        "    print('Evaluation on test set:')\n",
        "    print(f'R2: {test_set_r2}')"
      ],
      "metadata": {
        "colab": {
          "base_uri": "https://localhost:8080/"
        },
        "id": "8wfnoLN8-YIB",
        "outputId": "a3901e5d-33b8-4a44-f75f-331b0307607c"
      },
      "execution_count": 35,
      "outputs": [
        {
          "output_type": "stream",
          "name": "stdout",
          "text": [
            "Evaluation on test set:\n",
            "R2: 0.8697317242622375\n"
          ]
        }
      ]
    },
    {
      "cell_type": "markdown",
      "source": [
        "# NonLinear_data"
      ],
      "metadata": {
        "id": "QDR6UZXq45gU"
      }
    },
    {
      "cell_type": "code",
      "source": [
        "!gdown --id 1SqSn_8rxkk-Qvu4JLMcN_3ZFGDNa6P_V"
      ],
      "metadata": {
        "colab": {
          "base_uri": "https://localhost:8080/"
        },
        "id": "qgL4HdTp5DrN",
        "outputId": "98e74bd9-c829-47e6-ae1c-54913b9d3c25"
      },
      "execution_count": 36,
      "outputs": [
        {
          "output_type": "stream",
          "name": "stdout",
          "text": [
            "/usr/local/lib/python3.10/dist-packages/gdown/__main__.py:140: FutureWarning: Option `--id` was deprecated in version 4.3.1 and will be removed in 5.0. You don't need to pass it anymore to use a file ID.\n",
            "  warnings.warn(\n",
            "Downloading...\n",
            "From: https://drive.google.com/uc?id=1SqSn_8rxkk-Qvu4JLMcN_3ZFGDNa6P_V\n",
            "To: /content/NonLinear_data.npy\n",
            "100% 5.57k/5.57k [00:00<00:00, 19.9MB/s]\n"
          ]
        }
      ]
    },
    {
      "cell_type": "code",
      "source": [
        "import numpy as np\n",
        "import pandas as pd\n",
        "import matplotlib . pyplot as plt\n",
        "import torch\n",
        "import torch .nn as nn\n",
        "import torch .nn. functional as F\n",
        "from torch . utils . data import Dataset , DataLoader\n",
        "\n",
        "from sklearn . model_selection import train_test_split\n",
        "from sklearn . preprocessing import StandardScaler"
      ],
      "metadata": {
        "id": "AKEaSD4F5LH5"
      },
      "execution_count": 37,
      "outputs": []
    },
    {
      "cell_type": "code",
      "source": [
        "# fix random seed and set computing device\n",
        "\n",
        "device = torch.device('cuda: 0' if torch.cuda.is_available() else 'cpu')\n",
        "random_state = 59\n",
        "np.random.seed(random_state)\n",
        "torch.manual_seed(random_state)\n",
        "if torch.cuda.is_available():\n",
        "    torch.cuda.manual_seed(random_state)"
      ],
      "metadata": {
        "id": "zqxkkAWB5V7o"
      },
      "execution_count": 38,
      "outputs": []
    },
    {
      "cell_type": "code",
      "source": [
        "# read data\n",
        "\n",
        "data_path = '/content/NonLinear_data.npy'\n",
        "data = np.load(data_path, allow_pickle = True).item()\n",
        "X, y = data['X'], data ['labels']\n",
        "print(X.shape, y.shape)"
      ],
      "metadata": {
        "colab": {
          "base_uri": "https://localhost:8080/"
        },
        "id": "FDfPn80v57Eg",
        "outputId": "f47db7a9-ce71-4307-cb56-c550b76d2f85"
      },
      "execution_count": 39,
      "outputs": [
        {
          "output_type": "stream",
          "name": "stdout",
          "text": [
            "(300, 2) (300,)\n"
          ]
        }
      ]
    },
    {
      "cell_type": "code",
      "source": [
        "# split data to train, val, test\n",
        "\n",
        "val_size = 0.2\n",
        "test_size = 0.125\n",
        "is_shuffle = True\n",
        "\n",
        "X_train, X_val, y_train, y_val = train_test_split(\n",
        "    X, y,\n",
        "    test_size = val_size,\n",
        "    random_state = random_state,\n",
        "    shuffle = is_shuffle\n",
        ")\n",
        "\n",
        "X_train, X_test, y_train, y_test = train_test_split(\n",
        "    X_train, y_train,\n",
        "    test_size = test_size,\n",
        "    random_state = random_state,\n",
        "    shuffle = is_shuffle\n",
        ")"
      ],
      "metadata": {
        "id": "F5T0e_HD6qAz"
      },
      "execution_count": 40,
      "outputs": []
    },
    {
      "cell_type": "code",
      "source": [
        "# standardize input features\n",
        "\n",
        "normalizer = StandardScaler()\n",
        "X_train = normalizer.fit_transform(X_train)\n",
        "X_val = normalizer.transform(X_val)\n",
        "X_test = normalizer.transform(X_test)\n",
        "\n",
        "X_train = torch.tensor(X_train, dtype = torch.float32)\n",
        "X_val = torch.tensor(X_val, dtype = torch.float32)\n",
        "X_test = torch.tensor(X_test, dtype = torch.float32)\n",
        "y_train = torch.tensor(y_train, dtype = torch.long)\n",
        "y_val = torch.tensor(y_val, dtype = torch.long)\n",
        "y_test = torch.tensor(y_test, dtype = torch.long)"
      ],
      "metadata": {
        "id": "9ENcsXrs7R3v"
      },
      "execution_count": 41,
      "outputs": []
    },
    {
      "cell_type": "code",
      "source": [
        "# build dataloader\n",
        "\n",
        "class CustomDataset(Dataset):\n",
        "    def __init__(self, X, y):\n",
        "        self.X = X\n",
        "        self.y = y\n",
        "\n",
        "    def __len__(self):\n",
        "        return len(self.y)\n",
        "\n",
        "    def __getitem__(self, idx):\n",
        "        return self.X[idx], self.y[idx]\n",
        "\n",
        "\n",
        "batch_size = 32\n",
        "train_dataset = CustomDataset(X_train, y_train)\n",
        "val_dataset = CustomDataset(X_val, y_val)\n",
        "test_dataset = CustomDataset(X_test, y_test)\n",
        "\n",
        "train_loader = DataLoader(\n",
        "    train_dataset,\n",
        "    batch_size = batch_size ,\n",
        "    shuffle = True\n",
        ")\n",
        "val_loader = DataLoader(\n",
        "    val_dataset,\n",
        "    batch_size = batch_size,\n",
        "    shuffle = False\n",
        ")\n",
        "\n",
        "test_loader = DataLoader(\n",
        "    test_dataset,\n",
        "    batch_size = batch_size,\n",
        "    shuffle = False\n",
        ")"
      ],
      "metadata": {
        "id": "l4R_KOfL71iL"
      },
      "execution_count": 42,
      "outputs": []
    },
    {
      "cell_type": "code",
      "source": [
        "# build MLP network\n",
        "\n",
        "class MLP(nn.Module):\n",
        "    def __init__(self, input_dims, hidden_dims, output_dims):\n",
        "        super().__init__()\n",
        "        self.linear1 = nn.Linear(input_dims, hidden_dims)\n",
        "        self.linear2 = nn.Linear(hidden_dims, hidden_dims)\n",
        "        self.output = nn.Linear(hidden_dims, output_dims)\n",
        "\n",
        "    def forward(self, x):\n",
        "        x = self.linear1(x)\n",
        "        x = F.tanh(x)\n",
        "        x = self.linear2(x)\n",
        "        x = F.tanh(x)\n",
        "        out = self.output(x)\n",
        "        return out.squeeze(1)"
      ],
      "metadata": {
        "id": "rPGm_Oqr8EAv"
      },
      "execution_count": 63,
      "outputs": []
    },
    {
      "cell_type": "code",
      "source": [
        "# initialize model variances\n",
        "\n",
        "input_dims = X_train.shape[1]\n",
        "output_dims = torch.unique(y_train).shape[0]\n",
        "hidden_dims = 512\n",
        "\n",
        "model = MLP(\n",
        "    input_dims = input_dims,\n",
        "    hidden_dims = hidden_dims,\n",
        "    output_dims = output_dims\n",
        ").to(device)"
      ],
      "metadata": {
        "id": "s-NMGV1w8GIG"
      },
      "execution_count": 70,
      "outputs": []
    },
    {
      "cell_type": "code",
      "source": [
        "# declare loss function and optimizer\n",
        "\n",
        "lr = 1e-1\n",
        "criterion = nn.CrossEntropyLoss()\n",
        "optimizer = torch.optim.SGD(model.parameters(), lr=lr)"
      ],
      "metadata": {
        "id": "V5QQES0n8gyJ"
      },
      "execution_count": 71,
      "outputs": []
    },
    {
      "cell_type": "code",
      "source": [
        "# define accuracy function\n",
        "\n",
        "def compute_accuracy(y_hat, y_true):\n",
        "    _, y_hat = torch.max(y_hat, dim = 1)\n",
        "    correct = (y_hat == y_true).sum().item()\n",
        "    accuracy = correct / len(y_true)\n",
        "    return accuracy"
      ],
      "metadata": {
        "id": "LQ5sII068xHG"
      },
      "execution_count": 72,
      "outputs": []
    },
    {
      "cell_type": "code",
      "source": [
        "# train model\n",
        "\n",
        "epochs = 100\n",
        "train_losses = []\n",
        "val_losses = []\n",
        "train_accs = []\n",
        "val_accs = []\n",
        "\n",
        "for epoch in range(epochs):\n",
        "    train_loss = 0.0\n",
        "    train_target = []\n",
        "    train_predict = []\n",
        "    model.train()\n",
        "    for X_samples, y_samples in train_loader:\n",
        "        X_samples = X_samples.to(device)\n",
        "        y_samples = y_samples.to(device)\n",
        "        optimizer.zero_grad()\n",
        "        outputs = model(X_samples)\n",
        "        loss = criterion(outputs, y_samples)\n",
        "        loss.backward()\n",
        "        optimizer.step()\n",
        "        train_loss += loss.item()\n",
        "\n",
        "        train_predict.append(outputs.detach().cpu())\n",
        "        train_target.append(y_samples.cpu())\n",
        "\n",
        "    train_loss /= len(train_loader)\n",
        "    train_losses.append(train_loss)\n",
        "\n",
        "    train_predict = torch.cat(train_predict)\n",
        "    train_target = torch.cat(train_target)\n",
        "    train_acc = compute_accuracy(train_predict, train_target)\n",
        "    train_accs.append(train_acc)\n",
        "\n",
        "    val_loss = 0.0\n",
        "    val_target = []\n",
        "    val_predict = []\n",
        "\n",
        "    model.eval()\n",
        "    with torch.no_grad():\n",
        "        for X_samples, y_samples in val_loader:\n",
        "            X_samples = X_samples.to(device)\n",
        "            y_samples = y_samples.to(device)\n",
        "            outputs = model(X_samples)\n",
        "            val_loss += criterion(outputs, y_samples).item()\n",
        "\n",
        "            val_predict.append(outputs.cpu())\n",
        "            val_target.append(y_samples.cpu())\n",
        "\n",
        "    val_loss /= len(val_loader)\n",
        "    val_losses.append(val_loss)\n",
        "\n",
        "    val_predict = torch.cat(val_predict)\n",
        "    val_target = torch.cat(val_target)\n",
        "    val_acc = compute_accuracy(val_predict, val_target)\n",
        "    val_accs.append(val_acc)\n",
        "\n",
        "    print (f'\\n EPOCH {epoch + 1}: \\t Training loss: {train_loss:.3f} \\t Validation loss: {val_loss:.3f}')"
      ],
      "metadata": {
        "colab": {
          "base_uri": "https://localhost:8080/"
        },
        "id": "DUGRBn6d9CPD",
        "outputId": "6b4f4e26-ae01-437a-b4b8-ae502a6d97a1"
      },
      "execution_count": 73,
      "outputs": [
        {
          "output_type": "stream",
          "name": "stdout",
          "text": [
            "\n",
            " EPOCH 1: \t Training loss: 0.855 \t Validation loss: 0.888\n",
            "\n",
            " EPOCH 2: \t Training loss: 0.824 \t Validation loss: 0.898\n",
            "\n",
            " EPOCH 3: \t Training loss: 0.762 \t Validation loss: 0.828\n",
            "\n",
            " EPOCH 4: \t Training loss: 0.726 \t Validation loss: 0.828\n",
            "\n",
            " EPOCH 5: \t Training loss: 0.715 \t Validation loss: 0.836\n",
            "\n",
            " EPOCH 6: \t Training loss: 0.685 \t Validation loss: 0.785\n",
            "\n",
            " EPOCH 7: \t Training loss: 0.677 \t Validation loss: 0.775\n",
            "\n",
            " EPOCH 8: \t Training loss: 0.659 \t Validation loss: 0.741\n",
            "\n",
            " EPOCH 9: \t Training loss: 0.643 \t Validation loss: 0.751\n",
            "\n",
            " EPOCH 10: \t Training loss: 0.597 \t Validation loss: 0.677\n",
            "\n",
            " EPOCH 11: \t Training loss: 0.571 \t Validation loss: 0.651\n",
            "\n",
            " EPOCH 12: \t Training loss: 0.557 \t Validation loss: 0.558\n",
            "\n",
            " EPOCH 13: \t Training loss: 0.490 \t Validation loss: 0.554\n",
            "\n",
            " EPOCH 14: \t Training loss: 0.494 \t Validation loss: 0.549\n",
            "\n",
            " EPOCH 15: \t Training loss: 0.454 \t Validation loss: 0.515\n",
            "\n",
            " EPOCH 16: \t Training loss: 0.396 \t Validation loss: 0.456\n",
            "\n",
            " EPOCH 17: \t Training loss: 0.443 \t Validation loss: 0.588\n",
            "\n",
            " EPOCH 18: \t Training loss: 0.387 \t Validation loss: 0.368\n",
            "\n",
            " EPOCH 19: \t Training loss: 0.366 \t Validation loss: 0.421\n",
            "\n",
            " EPOCH 20: \t Training loss: 0.343 \t Validation loss: 0.414\n",
            "\n",
            " EPOCH 21: \t Training loss: 0.300 \t Validation loss: 0.299\n",
            "\n",
            " EPOCH 22: \t Training loss: 0.269 \t Validation loss: 0.325\n",
            "\n",
            " EPOCH 23: \t Training loss: 0.272 \t Validation loss: 0.383\n",
            "\n",
            " EPOCH 24: \t Training loss: 0.266 \t Validation loss: 0.463\n",
            "\n",
            " EPOCH 25: \t Training loss: 0.259 \t Validation loss: 0.219\n",
            "\n",
            " EPOCH 26: \t Training loss: 0.241 \t Validation loss: 0.352\n",
            "\n",
            " EPOCH 27: \t Training loss: 0.329 \t Validation loss: 0.297\n",
            "\n",
            " EPOCH 28: \t Training loss: 0.176 \t Validation loss: 0.200\n",
            "\n",
            " EPOCH 29: \t Training loss: 0.203 \t Validation loss: 0.212\n",
            "\n",
            " EPOCH 30: \t Training loss: 0.205 \t Validation loss: 0.156\n",
            "\n",
            " EPOCH 31: \t Training loss: 0.167 \t Validation loss: 0.219\n",
            "\n",
            " EPOCH 32: \t Training loss: 0.165 \t Validation loss: 0.184\n",
            "\n",
            " EPOCH 33: \t Training loss: 0.161 \t Validation loss: 0.131\n",
            "\n",
            " EPOCH 34: \t Training loss: 0.147 \t Validation loss: 0.131\n",
            "\n",
            " EPOCH 35: \t Training loss: 0.142 \t Validation loss: 0.212\n",
            "\n",
            " EPOCH 36: \t Training loss: 0.186 \t Validation loss: 0.179\n",
            "\n",
            " EPOCH 37: \t Training loss: 0.122 \t Validation loss: 0.125\n",
            "\n",
            " EPOCH 38: \t Training loss: 0.125 \t Validation loss: 0.196\n",
            "\n",
            " EPOCH 39: \t Training loss: 0.126 \t Validation loss: 0.109\n",
            "\n",
            " EPOCH 40: \t Training loss: 0.115 \t Validation loss: 0.101\n",
            "\n",
            " EPOCH 41: \t Training loss: 0.122 \t Validation loss: 0.227\n",
            "\n",
            " EPOCH 42: \t Training loss: 0.145 \t Validation loss: 0.111\n",
            "\n",
            " EPOCH 43: \t Training loss: 0.134 \t Validation loss: 0.184\n",
            "\n",
            " EPOCH 44: \t Training loss: 0.130 \t Validation loss: 0.142\n",
            "\n",
            " EPOCH 45: \t Training loss: 0.104 \t Validation loss: 0.159\n",
            "\n",
            " EPOCH 46: \t Training loss: 0.113 \t Validation loss: 0.108\n",
            "\n",
            " EPOCH 47: \t Training loss: 0.095 \t Validation loss: 0.113\n",
            "\n",
            " EPOCH 48: \t Training loss: 0.096 \t Validation loss: 0.195\n",
            "\n",
            " EPOCH 49: \t Training loss: 0.119 \t Validation loss: 0.103\n",
            "\n",
            " EPOCH 50: \t Training loss: 0.107 \t Validation loss: 0.097\n",
            "\n",
            " EPOCH 51: \t Training loss: 0.092 \t Validation loss: 0.126\n",
            "\n",
            " EPOCH 52: \t Training loss: 0.128 \t Validation loss: 0.111\n",
            "\n",
            " EPOCH 53: \t Training loss: 0.078 \t Validation loss: 0.096\n",
            "\n",
            " EPOCH 54: \t Training loss: 0.085 \t Validation loss: 0.094\n",
            "\n",
            " EPOCH 55: \t Training loss: 0.090 \t Validation loss: 0.076\n",
            "\n",
            " EPOCH 56: \t Training loss: 0.088 \t Validation loss: 0.082\n",
            "\n",
            " EPOCH 57: \t Training loss: 0.070 \t Validation loss: 0.082\n",
            "\n",
            " EPOCH 58: \t Training loss: 0.094 \t Validation loss: 0.081\n",
            "\n",
            " EPOCH 59: \t Training loss: 0.081 \t Validation loss: 0.069\n",
            "\n",
            " EPOCH 60: \t Training loss: 0.071 \t Validation loss: 0.056\n",
            "\n",
            " EPOCH 61: \t Training loss: 0.065 \t Validation loss: 0.085\n",
            "\n",
            " EPOCH 62: \t Training loss: 0.073 \t Validation loss: 0.076\n",
            "\n",
            " EPOCH 63: \t Training loss: 0.074 \t Validation loss: 0.097\n",
            "\n",
            " EPOCH 64: \t Training loss: 0.079 \t Validation loss: 0.176\n",
            "\n",
            " EPOCH 65: \t Training loss: 0.095 \t Validation loss: 0.088\n",
            "\n",
            " EPOCH 66: \t Training loss: 0.068 \t Validation loss: 0.062\n",
            "\n",
            " EPOCH 67: \t Training loss: 0.070 \t Validation loss: 0.051\n",
            "\n",
            " EPOCH 68: \t Training loss: 0.061 \t Validation loss: 0.056\n",
            "\n",
            " EPOCH 69: \t Training loss: 0.064 \t Validation loss: 0.061\n",
            "\n",
            " EPOCH 70: \t Training loss: 0.067 \t Validation loss: 0.077\n",
            "\n",
            " EPOCH 71: \t Training loss: 0.062 \t Validation loss: 0.050\n",
            "\n",
            " EPOCH 72: \t Training loss: 0.056 \t Validation loss: 0.065\n",
            "\n",
            " EPOCH 73: \t Training loss: 0.058 \t Validation loss: 0.069\n",
            "\n",
            " EPOCH 74: \t Training loss: 0.058 \t Validation loss: 0.042\n",
            "\n",
            " EPOCH 75: \t Training loss: 0.057 \t Validation loss: 0.057\n",
            "\n",
            " EPOCH 76: \t Training loss: 0.074 \t Validation loss: 0.050\n",
            "\n",
            " EPOCH 77: \t Training loss: 0.056 \t Validation loss: 0.059\n",
            "\n",
            " EPOCH 78: \t Training loss: 0.058 \t Validation loss: 0.049\n",
            "\n",
            " EPOCH 79: \t Training loss: 0.057 \t Validation loss: 0.042\n",
            "\n",
            " EPOCH 80: \t Training loss: 0.071 \t Validation loss: 0.088\n",
            "\n",
            " EPOCH 81: \t Training loss: 0.065 \t Validation loss: 0.036\n",
            "\n",
            " EPOCH 82: \t Training loss: 0.059 \t Validation loss: 0.056\n",
            "\n",
            " EPOCH 83: \t Training loss: 0.057 \t Validation loss: 0.071\n",
            "\n",
            " EPOCH 84: \t Training loss: 0.052 \t Validation loss: 0.056\n",
            "\n",
            " EPOCH 85: \t Training loss: 0.067 \t Validation loss: 0.060\n",
            "\n",
            " EPOCH 86: \t Training loss: 0.058 \t Validation loss: 0.092\n",
            "\n",
            " EPOCH 87: \t Training loss: 0.068 \t Validation loss: 0.058\n",
            "\n",
            " EPOCH 88: \t Training loss: 0.065 \t Validation loss: 0.084\n",
            "\n",
            " EPOCH 89: \t Training loss: 0.055 \t Validation loss: 0.036\n",
            "\n",
            " EPOCH 90: \t Training loss: 0.052 \t Validation loss: 0.065\n",
            "\n",
            " EPOCH 91: \t Training loss: 0.055 \t Validation loss: 0.033\n",
            "\n",
            " EPOCH 92: \t Training loss: 0.057 \t Validation loss: 0.085\n",
            "\n",
            " EPOCH 93: \t Training loss: 0.057 \t Validation loss: 0.049\n",
            "\n",
            " EPOCH 94: \t Training loss: 0.061 \t Validation loss: 0.034\n",
            "\n",
            " EPOCH 95: \t Training loss: 0.064 \t Validation loss: 0.049\n",
            "\n",
            " EPOCH 96: \t Training loss: 0.066 \t Validation loss: 0.064\n",
            "\n",
            " EPOCH 97: \t Training loss: 0.056 \t Validation loss: 0.036\n",
            "\n",
            " EPOCH 98: \t Training loss: 0.050 \t Validation loss: 0.025\n",
            "\n",
            " EPOCH 99: \t Training loss: 0.058 \t Validation loss: 0.035\n",
            "\n",
            " EPOCH 100: \t Training loss: 0.040 \t Validation loss: 0.068\n"
          ]
        }
      ]
    },
    {
      "cell_type": "code",
      "source": [
        "# visualize result\n",
        "\n",
        "fig, ax = plt.subplots(2, 2, figsize=(12, 10))\n",
        "ax[0, 0].plot(train_losses, color = 'green')\n",
        "ax[0, 0].set(xlabel = 'Epoch', ylabel = 'Loss')\n",
        "ax[0, 0].set_title('Training Loss')\n",
        "\n",
        "ax[0, 1].plot(val_losses, color = 'orange')\n",
        "ax[0, 1].set(xlabel = 'Epoch', ylabel = 'Loss')\n",
        "ax[0, 1].set_title('Validation Loss')\n",
        "\n",
        "ax[1, 0].plot(train_accs, color = 'green')\n",
        "ax[1, 0].set(xlabel = 'Epoch', ylabel = 'Accuracy')\n",
        "ax[1, 0].set_title('Training Accuracy')\n",
        "\n",
        "ax[1, 1].plot(val_accs, color = 'orange')\n",
        "ax[1, 1].set(xlabel = 'Epoch', ylabel = 'Accuracy')\n",
        "ax[1, 1].set_title('Validation Accuracy')\n",
        "\n",
        "plt.show()"
      ],
      "metadata": {
        "colab": {
          "base_uri": "https://localhost:8080/",
          "height": 872
        },
        "id": "os3ksL8c-vOx",
        "outputId": "57f66fcd-0944-4b4d-ece1-35a069459783"
      },
      "execution_count": 68,
      "outputs": [
        {
          "output_type": "display_data",
          "data": {
            "text/plain": [
              "<Figure size 1200x1000 with 4 Axes>"
            ],
            "image/png": "[encoded data removed]"
          },
          "metadata": {}
        }
      ]
    },
    {
      "cell_type": "code",
      "source": [
        "# evaluate model\n",
        "\n",
        "test_target = []\n",
        "test_predict = []\n",
        "model.eval()\n",
        "\n",
        "with torch.no_grad():\n",
        "    for X_samples, y_samples in test_loader:\n",
        "        X_samples = X_samples.to(device)\n",
        "        y_samples = y_samples.to(device)\n",
        "        outputs = model(X_samples)\n",
        "\n",
        "        test_predict.append(outputs.cpu())\n",
        "        test_target.append(y_samples.cpu())\n",
        "\n",
        "    test_predict = torch.cat(test_predict)\n",
        "    test_target = torch.cat(test_target)\n",
        "    test_acc = compute_accuracy(test_predict, test_target)\n",
        "\n",
        "    print('Evaluation on test set:')\n",
        "    print(f'Accuracy: {test_acc}')"
      ],
      "metadata": {
        "colab": {
          "base_uri": "https://localhost:8080/"
        },
        "id": "anYux1Je_vaG",
        "outputId": "357b3eeb-7b59-421d-d848-5f6fdc5560c7"
      },
      "execution_count": 75,
      "outputs": [
        {
          "output_type": "stream",
          "name": "stdout",
          "text": [
            "Evaluation on test set:\n",
            "Accuracy: 0.9333333333333333\n"
          ]
        }
      ]
    },
    {
      "cell_type": "markdown",
      "source": [
        "# FER-2013"
      ],
      "metadata": {
        "id": "qe7ecUkxAvwn"
      }
    },
    {
      "cell_type": "code",
      "source": [
        "!gdown --id 1GaTMURqIQTjtalbNVAyVgPIEis21A0r8\n",
        "!unzip -q './FER-2013.zip'"
      ],
      "metadata": {
        "id": "WanWlQEHAxLS",
        "colab": {
          "base_uri": "https://localhost:8080/"
        },
        "outputId": "47181fa2-55fc-40e6-eda7-6145c3e6af4a"
      },
      "execution_count": 77,
      "outputs": [
        {
          "output_type": "stream",
          "name": "stdout",
          "text": [
            "/usr/local/lib/python3.10/dist-packages/gdown/__main__.py:140: FutureWarning: Option `--id` was deprecated in version 4.3.1 and will be removed in 5.0. You don't need to pass it anymore to use a file ID.\n",
            "  warnings.warn(\n",
            "Downloading...\n",
            "From (original): https://drive.google.com/uc?id=1GaTMURqIQTjtalbNVAyVgPIEis21A0r8\n",
            "From (redirected): https://drive.google.com/uc?id=1GaTMURqIQTjtalbNVAyVgPIEis21A0r8&confirm=t&uuid=8d4700f1-6afe-4cd7-82ae-f2ad2841bdfc\n",
            "To: /content/FER-2013.zip\n",
            "100% 63.3M/63.3M [00:01<00:00, 44.2MB/s]\n"
          ]
        }
      ]
    },
    {
      "cell_type": "code",
      "source": [
        "import cv2\n",
        "import os\n",
        "import numpy as np\n",
        "import pandas as pd\n",
        "import matplotlib.pyplot as plt\n",
        "import torch\n",
        "import torch.nn as nn\n",
        "import torch.nn.functional as F\n",
        "from torch.utils.data import Dataset, DataLoader\n",
        "from torchvision.transforms import Resize\n",
        "from torchvision.io import read_image\n",
        "\n",
        "from sklearn.model_selection import train_test_split\n",
        "from sklearn.preprocessing import StandardScaler"
      ],
      "metadata": {
        "id": "F-SE0bWRA-lU"
      },
      "execution_count": 78,
      "outputs": []
    },
    {
      "cell_type": "code",
      "source": [
        "# fix random seed and set computing device\n",
        "\n",
        "device = torch.device('cuda: 0' if torch.cuda.is_available() else 'cpu')\n",
        "random_state = 59\n",
        "np.random.seed(random_state)\n",
        "torch.manual_seed(random_state)\n",
        "if torch.cuda.is_available():\n",
        "    torch.cuda.manual_seed(random_state)"
      ],
      "metadata": {
        "id": "IvYC3w49BOgh"
      },
      "execution_count": 79,
      "outputs": []
    },
    {
      "cell_type": "code",
      "source": [
        "# read data\n",
        "\n",
        "train_dir = '/content/train'\n",
        "test_dir = '/content/test'\n",
        "\n",
        "classes = os.listdir(train_dir)\n",
        "\n",
        "label2idx = {cls:idx for idx, cls in enumerate(classes)}\n",
        "idx2label = {idx:cls for cls, idx in label2idx.items()}\n",
        "\n",
        "\n",
        "# Define img_height and img_width\n",
        "img_height = 48\n",
        "img_width = 48"
      ],
      "metadata": {
        "id": "4-8Z7Sy9A1QF"
      },
      "execution_count": 86,
      "outputs": []
    },
    {
      "cell_type": "code",
      "source": [
        "# build dataLoader\n",
        "\n",
        "class ImageDataset(Dataset):\n",
        "    def __init__(self, img_dir, norm, label2idx, split = 'train', train_ratio = 0.8):\n",
        "        self.resize = Resize((img_height, img_width))\n",
        "        self.norm = norm\n",
        "        self.split = split\n",
        "        self.train_ratio = train_ratio\n",
        "        self.img_dir = img_dir\n",
        "        self.label2idx = label2idx\n",
        "        self.img_paths, self.img_labels = self.read_img_files()\n",
        "\n",
        "        if split in ['train', 'val'] and 'train' in img_dir.lower():\n",
        "            train_data, val_data = train_test_split(\n",
        "                list(zip(self.img_paths, self.img_labels)),\n",
        "                train_size = train_ratio,\n",
        "                random_state = random_state,\n",
        "                stratify = self.img_labels\n",
        "            )\n",
        "\n",
        "            if split == 'train':\n",
        "                self.img_paths, self.img_labels = zip(*train_data)\n",
        "            elif split == 'val':\n",
        "                self . img_paths , self . img_labels = zip (* val_data )\n",
        "\n",
        "    def read_img_files(self):\n",
        "        img_paths = []\n",
        "        img_labels = []\n",
        "        for cls in self.label2idx.keys():\n",
        "            for img in os.listdir(os.path.join(self.img_dir, cls)):\n",
        "                img_paths.append(os.path.join(self.img_dir, cls, img))\n",
        "                img_labels.append(cls)\n",
        "\n",
        "        return img_paths, img_labels\n",
        "\n",
        "    def __len__(self):\n",
        "        return len(self.img_paths)\n",
        "\n",
        "    def __getitem__(self, idx):\n",
        "        img_path = self.img_paths[idx]\n",
        "        cls = self.img_labels[idx]\n",
        "        img = self.resize(read_image(img_path))\n",
        "        img = img.type(torch.float32)\n",
        "        label = self.label2idx[cls]\n",
        "        if self.norm:\n",
        "            img = (img / 127.5) - 1\n",
        "        return img, label\n",
        "\n",
        "\n",
        "batch_size = 256\n",
        "\n",
        "train_dataset = ImageDataset(train_dir, False, label2idx, split = 'train')\n",
        "\n",
        "train_loader = DataLoader(\n",
        "    train_dataset,\n",
        "    batch_size = batch_size,\n",
        "    shuffle = True\n",
        ")\n",
        "\n",
        "val_dataset = ImageDataset(\n",
        "    train_dir,\n",
        "    True,\n",
        "    label2idx,\n",
        "    split = 'val'\n",
        ")\n",
        "\n",
        "val_loader = DataLoader(\n",
        "    val_dataset,\n",
        "    batch_size = batch_size,\n",
        "    shuffle = False\n",
        ")\n",
        "\n",
        "test_dataset = ImageDataset(\n",
        "    test_dir,\n",
        "    True,\n",
        "    label2idx,\n",
        "    split = 'test'\n",
        "\n",
        ")\n",
        "\n",
        "test_loader = DataLoader(\n",
        "    test_dataset,\n",
        "    batch_size = batch_size,\n",
        "    shuffle = False\n",
        ")"
      ],
      "metadata": {
        "id": "7_DgbCdpBm0f"
      },
      "execution_count": 87,
      "outputs": []
    },
    {
      "cell_type": "code",
      "source": [
        "# visualize some samples\n",
        "\n",
        "image_batch, label_batch = next(iter(train_loader))\n",
        "\n",
        "plt.figure(figsize=(10, 10))\n",
        "for i in range(9):\n",
        "    ax = plt.subplot(3, 3, i + 1)\n",
        "    minv = image_batch[i].numpy().min()\n",
        "    maxv = image_batch[i].numpy().max()\n",
        "    plt.imshow(np.squeeze(image_batch[i].numpy()), vmin = minv , vmax = maxv, cmap = \"gray\")\n",
        "    label = label_batch[i]\n",
        "    plt.title(idx2label[label.item()])\n",
        "    plt.axis(\"off\")"
      ],
      "metadata": {
        "colab": {
          "base_uri": "https://localhost:8080/",
          "height": 829
        },
        "id": "1n6H31suFDZf",
        "outputId": "a5cc02b8-abf3-4a39-a8bf-b5c84706f0a3"
      },
      "execution_count": 88,
      "outputs": [
        {
          "output_type": "display_data",
          "data": {
            "text/plain": [
              "<Figure size 1000x1000 with 9 Axes>"
            ],
            "image/png": "[encoded data removed]"
          },
          "metadata": {}
        }
      ]
    },
    {
      "cell_type": "code",
      "source": [
        "# build MLP network\n",
        "\n",
        "class MLP(nn.Module):\n",
        "    def __init__(self, input_dims, hidden_dims, output_dims):\n",
        "        super(MLP, self).__init__()\n",
        "        self.linear1 = nn.Linear(input_dims, hidden_dims  *4)\n",
        "        self.linear2 = nn.Linear(hidden_dims * 4, hidden_dims * 2)\n",
        "        # self.linear3 = nn.Linear(hidden_dims * 2, hidden_dims)\n",
        "        self.output = nn.Linear(2 * hidden_dims, output_dims)\n",
        "\n",
        "    def forward(self, x):\n",
        "        x = nn.Flatten()(x)\n",
        "        x = self.linear1(x)\n",
        "        x = F.relu(x)\n",
        "        x = self.linear2(x)\n",
        "        x = F.relu(x)\n",
        "        # x = self.linear3(x)\n",
        "        # x = F.relu(x)\n",
        "        out = self.output(x)\n",
        "        return out.squeeze(1)\n",
        "\n",
        "input_dims = img_height * img_width\n",
        "output_dims = len(classes)\n",
        "hidden_dims = 64\n",
        "lr = 1e-2\n",
        "\n",
        "model = MLP(\n",
        "    input_dims = input_dims,\n",
        "    hidden_dims = hidden_dims,\n",
        "    output_dims = output_dims\n",
        ").to(device)"
      ],
      "metadata": {
        "id": "Td3wXLjqGpAN"
      },
      "execution_count": 97,
      "outputs": []
    },
    {
      "cell_type": "code",
      "source": [
        "# declare loss function and optimizer\n",
        "\n",
        "criterion = nn.CrossEntropyLoss()\n",
        "optimizer = torch.optim.SGD(model.parameters(), lr=lr)"
      ],
      "metadata": {
        "id": "xDU7E_HIHyeb"
      },
      "execution_count": 98,
      "outputs": []
    },
    {
      "cell_type": "code",
      "source": [
        "# train model\n",
        "\n",
        "epochs = 40\n",
        "train_losses = []\n",
        "val_losses = []\n",
        "train_accs = []\n",
        "val_accs = []\n",
        "\n",
        "for epoch in range(epochs):\n",
        "    train_loss = 0.0\n",
        "    train_target = []\n",
        "    train_predict = []\n",
        "    model.train()\n",
        "    for X_samples, y_samples in train_loader:\n",
        "        X_samples = X_samples.to(device)\n",
        "        y_samples = y_samples.to(device)\n",
        "        optimizer.zero_grad()\n",
        "        outputs = model(X_samples)\n",
        "        loss = criterion(outputs,y_samples)\n",
        "        loss.backward()\n",
        "        optimizer.step()\n",
        "        train_loss += loss.item()\n",
        "\n",
        "        train_predict.append(outputs.detach().cpu())\n",
        "        train_target.append(y_samples.cpu())\n",
        "\n",
        "    train_loss /= len(train_loader)\n",
        "    train_losses.append(train_loss)\n",
        "\n",
        "    train_predict = torch.cat(train_predict)\n",
        "    train_target = torch.cat(train_target)\n",
        "    train_acc = compute_accuracy(train_predict, train_target)\n",
        "    train_accs.append(train_acc)\n",
        "\n",
        "    val_loss = 0.0\n",
        "    val_target = []\n",
        "    val_predict = []\n",
        "    model.eval()\n",
        "    with torch.no_grad():\n",
        "        for X_samples, y_samples in val_loader:\n",
        "            X_samples = X_samples.to(device)\n",
        "            y_samples = y_samples.to(device)\n",
        "            outputs = model(X_samples)\n",
        "            val_loss += criterion(outputs, y_samples).item()\n",
        "\n",
        "            val_predict.append(outputs.cpu())\n",
        "            val_target.append(y_samples.cpu())\n",
        "\n",
        "    val_loss /= len(val_loader)\n",
        "    val_losses.append(val_loss)\n",
        "\n",
        "    val_predict = torch.cat(val_predict)\n",
        "    val_target = torch.cat(val_target)\n",
        "    val_acc = compute_accuracy(val_predict, val_target)\n",
        "    val_accs.append(val_acc)\n",
        "\n",
        "    print (f'\\n EPOCH {epoch + 1}: \\t Training loss: {train_loss:.3f} \\t Validation loss: {val_loss:.3f}')"
      ],
      "metadata": {
        "colab": {
          "base_uri": "https://localhost:8080/"
        },
        "id": "ZK2fKoYyH_EK",
        "outputId": "7b5a5892-385c-4d7d-9cc2-9b9545e98f34"
      },
      "execution_count": 99,
      "outputs": [
        {
          "output_type": "stream",
          "name": "stdout",
          "text": [
            "\n",
            " EPOCH 1: \t Training loss: 44230633170546455599000846336.000 \t Validation loss: nan\n",
            "\n",
            " EPOCH 2: \t Training loss: 20.244 \t Validation loss: nan\n",
            "\n",
            " EPOCH 3: \t Training loss: 17.067 \t Validation loss: nan\n",
            "\n",
            " EPOCH 4: \t Training loss: 13.962 \t Validation loss: nan\n",
            "\n",
            " EPOCH 5: \t Training loss: 11.689 \t Validation loss: nan\n",
            "\n",
            " EPOCH 6: \t Training loss: 9.242 \t Validation loss: nan\n",
            "\n",
            " EPOCH 7: \t Training loss: 7.469 \t Validation loss: nan\n",
            "\n",
            " EPOCH 8: \t Training loss: 5.659 \t Validation loss: nan\n",
            "\n",
            " EPOCH 9: \t Training loss: 4.028 \t Validation loss: nan\n",
            "\n",
            " EPOCH 10: \t Training loss: 3.240 \t Validation loss: nan\n",
            "\n",
            " EPOCH 11: \t Training loss: 2.593 \t Validation loss: nan\n",
            "\n",
            " EPOCH 12: \t Training loss: 2.572 \t Validation loss: nan\n",
            "\n",
            " EPOCH 13: \t Training loss: 2.576 \t Validation loss: nan\n",
            "\n",
            " EPOCH 14: \t Training loss: 2.369 \t Validation loss: nan\n",
            "\n",
            " EPOCH 15: \t Training loss: 2.572 \t Validation loss: nan\n",
            "\n",
            " EPOCH 16: \t Training loss: 2.775 \t Validation loss: nan\n",
            "\n",
            " EPOCH 17: \t Training loss: 2.556 \t Validation loss: nan\n",
            "\n",
            " EPOCH 18: \t Training loss: 2.567 \t Validation loss: nan\n",
            "\n",
            " EPOCH 19: \t Training loss: 2.536 \t Validation loss: nan\n",
            "\n",
            " EPOCH 20: \t Training loss: 2.431 \t Validation loss: nan\n",
            "\n",
            " EPOCH 21: \t Training loss: 2.749 \t Validation loss: nan\n",
            "\n",
            " EPOCH 22: \t Training loss: 2.550 \t Validation loss: nan\n",
            "\n",
            " EPOCH 23: \t Training loss: 2.532 \t Validation loss: nan\n",
            "\n",
            " EPOCH 24: \t Training loss: 2.590 \t Validation loss: nan\n",
            "\n",
            " EPOCH 25: \t Training loss: 2.343 \t Validation loss: nan\n",
            "\n",
            " EPOCH 26: \t Training loss: 2.764 \t Validation loss: nan\n",
            "\n",
            " EPOCH 27: \t Training loss: 2.559 \t Validation loss: nan\n",
            "\n",
            " EPOCH 28: \t Training loss: 2.558 \t Validation loss: nan\n",
            "\n",
            " EPOCH 29: \t Training loss: 2.528 \t Validation loss: nan\n",
            "\n",
            " EPOCH 30: \t Training loss: 2.574 \t Validation loss: nan\n",
            "\n",
            " EPOCH 31: \t Training loss: 2.552 \t Validation loss: nan\n",
            "\n",
            " EPOCH 32: \t Training loss: 3.042 \t Validation loss: nan\n",
            "\n",
            " EPOCH 33: \t Training loss: 2.070 \t Validation loss: nan\n",
            "\n",
            " EPOCH 34: \t Training loss: 3.016 \t Validation loss: nan\n",
            "\n",
            " EPOCH 35: \t Training loss: 2.554 \t Validation loss: nan\n",
            "\n",
            " EPOCH 36: \t Training loss: 2.554 \t Validation loss: nan\n",
            "\n",
            " EPOCH 37: \t Training loss: 2.068 \t Validation loss: nan\n",
            "\n",
            " EPOCH 38: \t Training loss: 3.052 \t Validation loss: nan\n",
            "\n",
            " EPOCH 39: \t Training loss: 2.532 \t Validation loss: nan\n",
            "\n",
            " EPOCH 40: \t Training loss: 2.573 \t Validation loss: nan\n"
          ]
        }
      ]
    },
    {
      "cell_type": "code",
      "source": [
        "# visualize result\n",
        "\n",
        "fig, ax = plt.subplots(2, 2, figsize=(12, 10))\n",
        "ax[0, 0].plot(train_losses, color = 'green')\n",
        "ax[0, 0].set(xlabel = 'Epoch', ylabel = 'Loss')\n",
        "ax[0, 0].set_title('Training Loss')\n",
        "\n",
        "ax[0, 1].plot(val_losses, color = 'orange')\n",
        "ax[0, 1].set(xlabel = 'Epoch', ylabel = 'Loss')\n",
        "ax[0, 1].set_title('Validation Loss')\n",
        "\n",
        "ax[1, 0].plot(train_accs, color = 'green')\n",
        "ax[1, 0].set(xlabel = 'Epoch', ylabel = 'Accuracy')\n",
        "ax[1, 0].set_title('Training Accuracy')\n",
        "\n",
        "ax[1, 1].plot(val_accs, color = 'orange')\n",
        "ax[1, 1].set(xlabel = 'Epoch', ylabel = 'Accuracy')\n",
        "ax[1, 1].set_title('Validation Accuracy')\n",
        "\n",
        "plt.show()"
      ],
      "metadata": {
        "colab": {
          "base_uri": "https://localhost:8080/",
          "height": 872
        },
        "id": "lLtWupVQJitl",
        "outputId": "b20e32bd-3165-41e2-8a7c-51924c0c0bc4"
      },
      "execution_count": 100,
      "outputs": [
        {
          "output_type": "display_data",
          "data": {
            "text/plain": [
              "<Figure size 1200x1000 with 4 Axes>"
            ],
            "image/png": "[encoded data removed]"
          },
          "metadata": {}
        }
      ]
    },
    {
      "cell_type": "code",
      "source": [
        "# evaluate model\n",
        "\n",
        "test_target = []\n",
        "test_predict = []\n",
        "model.eval()\n",
        "\n",
        "with torch.no_grad():\n",
        "    for X_samples, y_samples in test_loader:\n",
        "        X_samples = X_samples.to(device)\n",
        "        y_samples = y_samples.to(device)\n",
        "        outputs = model(X_samples)\n",
        "\n",
        "        test_predict.append(outputs.cpu())\n",
        "        test_target.append(y_samples.cpu())\n",
        "\n",
        "    test_predict = torch.cat(test_predict)\n",
        "    test_target = torch.cat(test_target)\n",
        "    test_acc = compute_accuracy(test_predict, test_target)\n",
        "\n",
        "    print('Evaluation on test set:')\n",
        "    print(f'Accuracy: {test_acc}')"
      ],
      "metadata": {
        "colab": {
          "base_uri": "https://localhost:8080/"
        },
        "id": "bvgFXYfuJxdX",
        "outputId": "025085d9-4d2d-4ea6-954f-8c8da2175fb0"
      },
      "execution_count": 101,
      "outputs": [
        {
          "output_type": "stream",
          "name": "stdout",
          "text": [
            "Evaluation on test set:\n",
            "Accuracy: 0.22847589857899137\n"
          ]
        }
      ]
    }
  ]
}